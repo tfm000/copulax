{
 "cells": [
  {
   "cell_type": "markdown",
   "id": "0bd241d4",
   "metadata": {},
   "source": [
    "# <u> Copulax Examples </u>\n",
    "\n",
    "## Correlation and Covariance Estimation\n",
    "\n",
    "CopulAX provides a number of estimators for both the correlation and covariance matrices. These methods are conviently wrapped in the `corr` and `cov` functions."
   ]
  },
  {
   "cell_type": "markdown",
   "id": "7406c501",
   "metadata": {},
   "source": [
    "### Estimating the Correlation Matrix"
   ]
  },
  {
   "cell_type": "code",
   "execution_count": 1,
   "id": "d00e4b62",
   "metadata": {},
   "outputs": [
    {
     "name": "stdout",
     "output_type": "stream",
     "text": [
      "Estimated correlation matrix:\n",
      "[[ 1.          0.57287735  0.00838884]\n",
      " [ 0.57287735  1.         -0.03144315]\n",
      " [ 0.00838884 -0.03144315  1.        ]]\n"
     ]
    }
   ],
   "source": [
    "# generating a random sample\n",
    "import numpy as np\n",
    "dim = 3\n",
    "sample = np.random.normal(loc=0, scale=1, size=(100, dim)) * np.random.standard_t(df=5, size=(100, dim))\n",
    "sample[:, 1] = sample[:, 0] + sample[:, 1]\n",
    "sample[:, 2] = abs(sample[:, 2])\n",
    "\n",
    "# estimating the correlation matrix\n",
    "from copulax.multivariate import corr\n",
    "corr_matrix = corr(sample, method='spearman')\n",
    "print(\"Estimated correlation matrix:\")\n",
    "print(corr_matrix)"
   ]
  },
  {
   "cell_type": "markdown",
   "id": "0a901663",
   "metadata": {},
   "source": [
    "### Estimating the Covariance Matrix"
   ]
  },
  {
   "cell_type": "code",
   "execution_count": 2,
   "id": "f27ca6a7",
   "metadata": {},
   "outputs": [
    {
     "name": "stdout",
     "output_type": "stream",
     "text": [
      "Estimated covariance matrix:\n",
      "[[ 0.79703313  0.73155475  0.00925294]\n",
      " [ 0.7315548   2.0459454  -0.05556648]\n",
      " [ 0.00925294 -0.05556648  1.5264401 ]]\n"
     ]
    }
   ],
   "source": [
    "# estimating the covariance matrix\n",
    "from copulax.multivariate import cov\n",
    "cov_matrix = cov(sample, method='spearman')\n",
    "print(\"Estimated covariance matrix:\")\n",
    "print(cov_matrix)"
   ]
  },
  {
   "cell_type": "markdown",
   "id": "5e4c56fa",
   "metadata": {},
   "source": [
    "## Correlation and Covariance Matrix Sampling\n",
    "\n",
    "CopulAX provides random uniform samplers for both the correlation and covariance matrices.\n",
    "As copulAX is JAX based, a key is required for random number generation. \n",
    "Random keys can be generated using copulAX's `get_random_key` function, as shown below."
   ]
  },
  {
   "cell_type": "markdown",
   "id": "672050c1",
   "metadata": {},
   "source": [
    "### Sampling the Correlation Matrix"
   ]
  },
  {
   "cell_type": "code",
   "execution_count": 3,
   "id": "cea15b24",
   "metadata": {},
   "outputs": [
    {
     "name": "stdout",
     "output_type": "stream",
     "text": [
      "Random correlation matrix:\n",
      "[[ 1.         -0.2863497   0.1539065  -0.8012594  -0.33014324]\n",
      " [-0.28634974  0.9999999  -0.2915295   0.21791357  0.2516172 ]\n",
      " [ 0.1539065  -0.2915295   0.99999994 -0.16484474  0.06449151]\n",
      " [-0.8012594   0.21791354 -0.16484474  0.9999999   0.4024159 ]\n",
      " [-0.33014324  0.2516172   0.06449151  0.4024159   1.        ]]\n"
     ]
    }
   ],
   "source": [
    "# generating a random key\n",
    "from copulax import get_random_key\n",
    "from jax.random import split\n",
    "key = get_random_key()\n",
    "correlation_key, covariance_key = split(key)\n",
    "\n",
    "# generating a random correlation matrix\n",
    "from copulax.multivariate import random_correlation\n",
    "dim = 5\n",
    "rand_corr = random_correlation(size=dim, key=correlation_key)\n",
    "print(\"Random correlation matrix:\")\n",
    "print(rand_corr)"
   ]
  },
  {
   "cell_type": "markdown",
   "id": "8a4e6d0f",
   "metadata": {},
   "source": [
    "### Sampling the Correlation Matrix\n",
    "Unlike when sampling the correlation matrix, when we sample the covariance matrix, we must specify the variance of each variable."
   ]
  },
  {
   "cell_type": "code",
   "execution_count": 4,
   "id": "25ac001f",
   "metadata": {},
   "outputs": [
    {
     "name": "stdout",
     "output_type": "stream",
     "text": [
      "Random covariance matrix:\n",
      "[[ 0.26876247 -0.39513734  0.15230891 -0.3426704  -0.14799194]\n",
      " [-0.39513737  1.849741   -0.11112267  1.0092597   0.06406494]\n",
      " [ 0.15230891 -0.11112267  1.1897591  -0.27854618  0.03428948]\n",
      " [-0.3426704   1.0092598  -0.27854618  1.9918437   0.09132448]\n",
      " [-0.14799194  0.06406493  0.03428948  0.09132448  1.4250162 ]]\n"
     ]
    }
   ],
   "source": [
    "# generating a random covariance matrix\n",
    "from copulax.multivariate import random_covariance\n",
    "variances = np.random.uniform(low=0.1, high=2.0, size=dim)\n",
    "rand_cov = random_covariance(vars=variances, key=covariance_key)\n",
    "print(\"Random covariance matrix:\")\n",
    "print(rand_cov)"
   ]
  }
 ],
 "metadata": {
  "kernelspec": {
   "display_name": "venv",
   "language": "python",
   "name": "python3"
  },
  "language_info": {
   "codemirror_mode": {
    "name": "ipython",
    "version": 3
   },
   "file_extension": ".py",
   "mimetype": "text/x-python",
   "name": "python",
   "nbconvert_exporter": "python",
   "pygments_lexer": "ipython3",
   "version": "3.11.7"
  }
 },
 "nbformat": 4,
 "nbformat_minor": 5
}
