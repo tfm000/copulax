{
 "cells": [
  {
   "cell_type": "markdown",
   "id": "9a6f1902",
   "metadata": {},
   "source": [
    "# <u> Copulax Examples </u>\n",
    "\n",
    "## Copula Distributions\n",
    "\n",
    "CopulAX provides a number of copula distribution objects, a full list of which can be found <a href=https://github.com/tfm000/copulax/blob/main/copulax/copula/README.md> here</a>.\n",
    "These distribution objects contain standardised methods, covering almost all intended usecases. Inspection of each object also allows the user to see the implemented parameterisation and other details."
   ]
  },
  {
   "cell_type": "markdown",
   "id": "e4f64280",
   "metadata": {},
   "source": [
    "### Parameter Specification\n",
    "\n",
    "All copulAX distribution objects utilise python dictionaries to label and hold parameters.\n",
    "\n",
    "Each distribution object implements the `example_params` method, allowing the user to quickly and easily get a sense of what the required parameter key-value naming and form.\n",
    "\n",
    "For copula objects, these differ slightly from univariate and multivariate objects, as the univariate marginal distributions and their parameters must additionally be specified within the parameter dictionary."
   ]
  },
  {
   "cell_type": "code",
   "execution_count": 3,
   "id": "aca3bdcc",
   "metadata": {},
   "outputs": [
    {
     "name": "stdout",
     "output_type": "stream",
     "text": [
      "{'marginals': ((Student-T, {'nu': Array(2.5, dtype=float32), 'mu': Array(0., dtype=float32), 'sigma': Array(1., dtype=float32)}), (Student-T, {'nu': Array(2.5, dtype=float32), 'mu': Array(0., dtype=float32), 'sigma': Array(1., dtype=float32)}), (Student-T, {'nu': Array(2.5, dtype=float32), 'mu': Array(0., dtype=float32), 'sigma': Array(1., dtype=float32)})), 'copula': {'nu': Array(2.5, dtype=float32), 'mu': Array([[0.],\n",
      "       [0.],\n",
      "       [0.]], dtype=float32), 'sigma': Array([[1., 0., 0.],\n",
      "       [0., 1., 0.],\n",
      "       [0., 0., 1.]], dtype=float32)}}\n"
     ]
    }
   ],
   "source": [
    "from copulax.copulas import student_t_copula\n",
    "\n",
    "print(student_t_copula.example_params())"
   ]
  },
  {
   "cell_type": "markdown",
   "id": "c72f023e",
   "metadata": {},
   "source": [
    "### Probability Density/Mass Functions and Culumative Density/Mass Funcitons\n",
    "\n",
    "All distribution objects (including discrete distributions for naming uniformity) have a `pdf` method, allowing for the evalutation of the probability density / mass function.\n",
    "Currently the cumulative density/mass function is not yet implemented, but will be in the future."
   ]
  },
  {
   "cell_type": "code",
   "execution_count": 4,
   "id": "2ca247f6",
   "metadata": {},
   "outputs": [
    {
     "name": "stdout",
     "output_type": "stream",
     "text": [
      "pdf: [[1.6962605e-02]\n",
      " [7.3574543e-06]\n",
      " [2.2109633e-04]\n",
      " [2.8798282e-02]\n",
      " [1.7350741e-03]]\n"
     ]
    }
   ],
   "source": [
    "# generating a random sample\n",
    "import numpy as np\n",
    "dim = 3\n",
    "sample = np.random.normal(loc=0, scale=1, size=(100, dim)) * np.random.standard_t(df=5, size=(100, dim))\n",
    "sample[:, 1] = sample[:, 0] + sample[:, 1]\n",
    "sample[:, 2] = abs(sample[:, 2])\n",
    "\n",
    "\n",
    "# calculating the PDF\n",
    "example_params = student_t_copula.example_params()\n",
    "pdf = student_t_copula.pdf(sample, params=example_params)\n",
    "print(\"pdf:\", pdf[:5])"
   ]
  },
  {
   "cell_type": "markdown",
   "id": "428423b7",
   "metadata": {},
   "source": [
    "### Generating Random Samples\n",
    "\n",
    "All copulAX distribution objects are capable of generating random samples using the `rvs` method.\n",
    "As copulAX is JAX based, a key is required for random number generation. \n",
    "Random keys can be generated using copulAX's `get_random_key` function, as shown below."
   ]
  },
  {
   "cell_type": "code",
   "execution_count": 5,
   "id": "5849b3ab",
   "metadata": {},
   "outputs": [
    {
     "name": "stdout",
     "output_type": "stream",
     "text": [
      "random sample: [[-0.44152957 -0.42189574 -1.9679672 ]\n",
      " [-0.5500783   0.86221105 -0.6015926 ]\n",
      " [-1.7941105  -0.81948507 -0.55515194]\n",
      " [ 0.12906258 -0.0525569  -0.11636471]\n",
      " [ 1.6398549  -0.85909206  1.498929  ]]\n"
     ]
    }
   ],
   "source": [
    "# generating a random key\n",
    "from copulax import get_random_key\n",
    "from jax.random import split\n",
    "key = get_random_key()\n",
    "key, subkey = split(key)\n",
    "\n",
    "# generating a random sample\n",
    "random_sample = student_t_copula.rvs(key=subkey, params=example_params, size=100)\n",
    "print(\"random sample:\", random_sample[:5])"
   ]
  },
  {
   "cell_type": "markdown",
   "id": "0068fcb1",
   "metadata": {},
   "source": [
    "### Fitting Distributions to Data\n",
    "\n",
    "All copulAX distributions are capable of fitting parameters to a given set of observations using the `fit` method."
   ]
  },
  {
   "cell_type": "code",
   "execution_count": 6,
   "id": "f7e9e4ee",
   "metadata": {},
   "outputs": [
    {
     "name": "stdout",
     "output_type": "stream",
     "text": [
      "fitted parameters: {'marginals': ((Student-T, {'mu': Array(0.06176776, dtype=float32), 'nu': Array(4.7154307, dtype=float32), 'sigma': Array(1.7715615, dtype=float32)}), (Student-T, {'mu': Array(0.19955385, dtype=float32), 'nu': Array(4.7493267, dtype=float32), 'sigma': Array(2.5954056, dtype=float32)}), (Gamma, {'alpha': Array(0.5499769, dtype=float32), 'beta': Array(0.73634714, dtype=float32)})), 'copula': {'nu': Array(0.09690402, dtype=float32), 'mu': Array([[0.],\n",
      "       [0.],\n",
      "       [0.]], dtype=float32), 'sigma': Array([[ 1.        ,  0.76943123, -0.15029147],\n",
      "       [ 0.76943123,  1.        , -0.12935837],\n",
      "       [-0.15029147, -0.12935837,  1.        ]], dtype=float32)}}\n"
     ]
    }
   ],
   "source": [
    "fitted_params = student_t_copula.fit(sample)\n",
    "print(\"fitted parameters:\", fitted_params)"
   ]
  }
 ],
 "metadata": {
  "kernelspec": {
   "display_name": "venv",
   "language": "python",
   "name": "python3"
  },
  "language_info": {
   "codemirror_mode": {
    "name": "ipython",
    "version": 3
   },
   "file_extension": ".py",
   "mimetype": "text/x-python",
   "name": "python",
   "nbconvert_exporter": "python",
   "pygments_lexer": "ipython3",
   "version": "3.11.7"
  }
 },
 "nbformat": 4,
 "nbformat_minor": 5
}
