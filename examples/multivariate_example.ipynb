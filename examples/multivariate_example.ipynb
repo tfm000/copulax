{
 "cells": [
  {
   "cell_type": "markdown",
   "id": "e0817d04",
   "metadata": {},
   "source": [
    "# <u> Copulax Examples </u>\n",
    "\n",
    "## Multivariate Distributions\n",
    "\n",
    "CopulAX provides a number of multivariate distribution objects, a full list of which can be found <a href=https://github.com/tfm000/copulax/blob/main/copulax/multivariate/README.md> here</a>.\n",
    "These distribution objects contain standardised methods, covering almost all intended usecases. Inspection of each object also allows the user to see the implemented parameterisation and other details."
   ]
  },
  {
   "cell_type": "markdown",
   "id": "aa69c8d0",
   "metadata": {},
   "source": [
    "### Parameter Specification\n",
    "\n",
    "All copulAX distribution objects utilise python dictionaries to label and hold parameters.\n",
    "\n",
    "Each distribution object implements the `example_params` method, allowing the user to quickly and easily get a sense of what the required parameter key-value naming and form."
   ]
  },
  {
   "cell_type": "code",
   "execution_count": 1,
   "id": "19aeb440",
   "metadata": {},
   "outputs": [
    {
     "name": "stdout",
     "output_type": "stream",
     "text": [
      "{'nu': Array(2.5, dtype=float32), 'mu': Array([[0.],\n",
      "       [0.],\n",
      "       [0.]], dtype=float32), 'sigma': Array([[1., 0., 0.],\n",
      "       [0., 1., 0.],\n",
      "       [0., 0., 1.]], dtype=float32)}\n"
     ]
    }
   ],
   "source": [
    "from copulax.multivariate import mvt_student_t\n",
    "\n",
    "print(mvt_student_t.example_params())"
   ]
  },
  {
   "cell_type": "markdown",
   "id": "c4b54cb8",
   "metadata": {},
   "source": [
    "### Probability Density/Mass Functions and Culumative Density/Mass Funcitons\n",
    "\n",
    "All distribution objects (including discrete distributions for naming uniformity) have a `pdf` method, allowing for the evalutation of the probability density / mass function.\n",
    "Currently the cumulative density/mass function is not yet implemented, but will be in the future."
   ]
  },
  {
   "cell_type": "code",
   "execution_count": 2,
   "id": "d645e886",
   "metadata": {},
   "outputs": [
    {
     "name": "stdout",
     "output_type": "stream",
     "text": [
      "pdf: [[0.0715114 ]\n",
      " [0.00481453]\n",
      " [0.02403291]\n",
      " [0.0181657 ]\n",
      " [0.00442849]]\n"
     ]
    }
   ],
   "source": [
    "# generating a random sample\n",
    "import numpy as np\n",
    "dim = 3\n",
    "sample = np.random.normal(loc=0, scale=1, size=(100, dim)) * np.random.standard_t(df=5, size=(100, dim))\n",
    "\n",
    "# calculating the PDF\n",
    "example_params = mvt_student_t.example_params(dim=dim)\n",
    "pdf = mvt_student_t.pdf(sample, params=example_params)\n",
    "print(\"pdf:\", pdf[:5])"
   ]
  },
  {
   "cell_type": "markdown",
   "id": "c38564fa",
   "metadata": {},
   "source": [
    "### Generating Random Samples\n",
    "\n",
    "All copulAX distribution objects are capable of generating random samples using the `rvs` method.\n",
    "As copulAX is JAX based, a key is required for random number generation. \n",
    "Random keys can be generated using copulAX's `get_random_key` function, as shown below.\n"
   ]
  },
  {
   "cell_type": "code",
   "execution_count": 3,
   "id": "22206acb",
   "metadata": {},
   "outputs": [
    {
     "name": "stdout",
     "output_type": "stream",
     "text": [
      "random sample: [[-0.37373784  2.0983357   1.1551142 ]\n",
      " [ 0.882044   -0.67823696  0.9052108 ]\n",
      " [ 0.39547068  0.15891217  0.79588   ]\n",
      " [ 1.6291084  -1.6666582   1.7800558 ]\n",
      " [-0.21377528 -0.4825019  -0.28252548]]\n"
     ]
    }
   ],
   "source": [
    "# generating a random key\n",
    "from copulax import get_random_key\n",
    "from jax.random import split\n",
    "key = get_random_key()\n",
    "key, subkey = split(key)\n",
    "\n",
    "# generating a random sample\n",
    "random_sample = mvt_student_t.rvs(key=subkey, params=example_params, size=100)\n",
    "print(\"random sample:\", random_sample[:5])"
   ]
  },
  {
   "cell_type": "markdown",
   "id": "d774c514",
   "metadata": {},
   "source": [
    "### Fitting Distributions to Data\n",
    "\n",
    "All copulAX distributions are capable of fitting parameters to a given set of observations using the `fit` method."
   ]
  },
  {
   "cell_type": "code",
   "execution_count": 4,
   "id": "34a459f5",
   "metadata": {},
   "outputs": [
    {
     "name": "stdout",
     "output_type": "stream",
     "text": [
      "fitted parameters: {'nu': Array(2.6957917, dtype=float32), 'mu': Array([[0.06298425],\n",
      "       [0.20339186],\n",
      "       [0.09807049]], dtype=float32), 'sigma': Array([[ 0.5967258 , -0.03380008, -0.01219192],\n",
      "       [-0.03380008,  0.55635643, -0.0784047 ],\n",
      "       [-0.01219192, -0.07840471,  0.5198266 ]], dtype=float32)}\n"
     ]
    }
   ],
   "source": [
    "fitted_params = mvt_student_t.fit(sample)\n",
    "print(\"fitted parameters:\", fitted_params)"
   ]
  },
  {
   "cell_type": "code",
   "execution_count": null,
   "id": "bcb39af3",
   "metadata": {},
   "outputs": [],
   "source": []
  }
 ],
 "metadata": {
  "kernelspec": {
   "display_name": "venv",
   "language": "python",
   "name": "python3"
  },
  "language_info": {
   "codemirror_mode": {
    "name": "ipython",
    "version": 3
   },
   "file_extension": ".py",
   "mimetype": "text/x-python",
   "name": "python",
   "nbconvert_exporter": "python",
   "pygments_lexer": "ipython3",
   "version": "3.11.7"
  }
 },
 "nbformat": 4,
 "nbformat_minor": 5
}
